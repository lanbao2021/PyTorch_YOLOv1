{
 "cells": [
  {
   "cell_type": "code",
   "execution_count": 1,
   "metadata": {},
   "outputs": [],
   "source": [
    "import os\n",
    "import random\n",
    "import argparse\n",
    "import time\n",
    "import math\n",
    "import numpy as np\n",
    "\n",
    "import torch\n",
    "import torch.optim as optim\n",
    "import torch.backends.cudnn as cudnn\n",
    "\n",
    "from data import *\n",
    "import tools\n",
    "\n",
    "from utils.augmentations import SSDAugmentation\n",
    "from utils.cocoapi_evaluator import COCOAPIEvaluator\n",
    "from utils.vocapi_evaluator import VOCAPIEvaluator"
   ]
  },
  {
   "cell_type": "code",
   "execution_count": 6,
   "metadata": {},
   "outputs": [],
   "source": [
    "VOC_ROOT = '/Users/lan/Downloads/VOCdevkit'\n",
    "data_dir = VOC_ROOT\n",
    "num_classes = 20\n",
    "train_size = 416\n",
    "val_size = 416\n",
    "VOC_CLASSES = (  # always index 0\n",
    "    'aeroplane', 'bicycle', 'bird', 'boat',\n",
    "    'bottle', 'bus', 'car', 'cat', 'chair',\n",
    "    'cow', 'diningtable', 'dog', 'horse',\n",
    "    'motorbike', 'person', 'pottedplant',\n",
    "    'sheep', 'sofa', 'train', 'tvmonitor')\n",
    "device = 'cpu'"
   ]
  },
  {
   "cell_type": "code",
   "execution_count": 7,
   "metadata": {},
   "outputs": [],
   "source": [
    "evaluator = VOCAPIEvaluator(data_root=data_dir,\n",
    "                                    img_size=val_size, # val_size是416（意思是图片大小416*416）\n",
    "                                    device=device,\n",
    "                                    transform=BaseTransform(val_size), # 预测时只需要做基本的数据增强（归一化），跟训练不一样\n",
    "                                    labelmap=VOC_CLASSES\n",
    "                                    )"
   ]
  },
  {
   "cell_type": "code",
   "execution_count": 13,
   "metadata": {},
   "outputs": [],
   "source": [
    "from models.yolo import myYOLO\n",
    "yolo_net = myYOLO(device, input_size=train_size, num_classes=num_classes, trainable=True)\n",
    "model = yolo_net\n",
    "model.load_state_dict(torch.load('yolo_150.pth', map_location=device))\n",
    "model.eval()\n",
    "a=1"
   ]
  },
  {
   "cell_type": "code",
   "execution_count": 16,
   "metadata": {},
   "outputs": [
    {
     "data": {
      "text/plain": [
       "4952"
      ]
     },
     "execution_count": 16,
     "metadata": {},
     "output_type": "execute_result"
    }
   ],
   "source": [
    "self = evaluator\n",
    "num_images = len(self.dataset)\n",
    "num_images"
   ]
  },
  {
   "cell_type": "code",
   "execution_count": 20,
   "metadata": {},
   "outputs": [
    {
     "data": {
      "text/plain": [
       "(20, 4952)"
      ]
     },
     "execution_count": 20,
     "metadata": {},
     "output_type": "execute_result"
    }
   ],
   "source": [
    "self.all_boxes = [[[] for _ in range(num_images)] for _ in range(len(self.labelmap))]\n",
    "len(self.all_boxes), len(self.all_boxes[0])"
   ]
  },
  {
   "cell_type": "code",
   "execution_count": 21,
   "metadata": {},
   "outputs": [
    {
     "data": {
      "text/plain": [
       "'voc_eval/test'"
      ]
     },
     "execution_count": 21,
     "metadata": {},
     "output_type": "execute_result"
    }
   ],
   "source": [
    "self.output_dir"
   ]
  },
  {
   "cell_type": "code",
   "execution_count": 22,
   "metadata": {},
   "outputs": [],
   "source": [
    "det_file = os.path.join(self.output_dir, 'detections.pkl')"
   ]
  },
  {
   "cell_type": "code",
   "execution_count": 32,
   "metadata": {},
   "outputs": [],
   "source": [
    "model.trainable = False"
   ]
  },
  {
   "cell_type": "code",
   "execution_count": 35,
   "metadata": {},
   "outputs": [],
   "source": [
    "import torch\n",
    "import torch.nn as nn\n",
    "import torch.backends.cudnn as cudnn\n",
    "from torch.autograd import Variable\n",
    "from data import VOCDetection\n",
    "import sys\n",
    "import os\n",
    "import time\n",
    "import numpy as np\n",
    "import pickle\n",
    "im, gt, h, w = self.dataset.pull_item(0)\n",
    "x = Variable(im.unsqueeze(0)).to(self.device)\n",
    "t0 = time.time()"
   ]
  },
  {
   "cell_type": "code",
   "execution_count": 38,
   "metadata": {},
   "outputs": [],
   "source": [
    "model.trainable = False\n",
    "net = model\n",
    "bboxes, scores, cls_inds = net(x) # 此时得到的bboxes是经过nms的"
   ]
  },
  {
   "cell_type": "code",
   "execution_count": 40,
   "metadata": {},
   "outputs": [
    {
     "data": {
      "text/plain": [
       "56.23599410057068"
      ]
     },
     "execution_count": 40,
     "metadata": {},
     "output_type": "execute_result"
    }
   ],
   "source": [
    "detect_time = time.time() - t0\n",
    "detect_time"
   ]
  },
  {
   "cell_type": "code",
   "execution_count": 47,
   "metadata": {},
   "outputs": [
    {
     "data": {
      "text/plain": [
       "array([[353, 500, 353, 500]])"
      ]
     },
     "execution_count": 47,
     "metadata": {},
     "output_type": "execute_result"
    }
   ],
   "source": [
    "scale = np.array([[w, h, w, h]])  # 原始图片的宽高，不是416\n",
    "scale"
   ]
  },
  {
   "cell_type": "code",
   "execution_count": 48,
   "metadata": {},
   "outputs": [],
   "source": [
    "bboxes *= scale "
   ]
  },
  {
   "cell_type": "code",
   "execution_count": 69,
   "metadata": {},
   "outputs": [
    {
     "data": {
      "text/plain": [
       "array([0, 1, 2])"
      ]
     },
     "execution_count": 69,
     "metadata": {},
     "output_type": "execute_result"
    }
   ],
   "source": [
    "inds = np.where(cls_inds == 14)[0]\n",
    "inds"
   ]
  },
  {
   "cell_type": "code",
   "execution_count": 70,
   "metadata": {},
   "outputs": [
    {
     "data": {
      "text/plain": [
       "((3, 4), (3,))"
      ]
     },
     "execution_count": 70,
     "metadata": {},
     "output_type": "execute_result"
    }
   ],
   "source": [
    "c_bboxes = bboxes[inds]\n",
    "c_scores = scores[inds]\n",
    "c_bboxes.shape, c_scores.shape"
   ]
  },
  {
   "cell_type": "code",
   "execution_count": 75,
   "metadata": {},
   "outputs": [
    {
     "data": {
      "text/plain": [
       "(3, 5)"
      ]
     },
     "execution_count": 75,
     "metadata": {},
     "output_type": "execute_result"
    }
   ],
   "source": [
    "c_dets = np.hstack((c_bboxes,\n",
    "                                    c_scores[:, np.newaxis])).astype(np.float32,\n",
    "                                                                    copy=False)\n",
    "c_dets.shape                                                                "
   ]
  },
  {
   "cell_type": "code",
   "execution_count": 77,
   "metadata": {},
   "outputs": [],
   "source": [
    "self.all_boxes[14][0] = c_dets"
   ]
  },
  {
   "cell_type": "code",
   "execution_count": 78,
   "metadata": {},
   "outputs": [],
   "source": [
    "for i in range(num_images): # num_images=4952\n",
    "            im, gt, h, w = self.dataset.pull_item(i) # 从数据集里一张张的抽出图像数据\n",
    "\n",
    "            # unsqueeze(0)表示在第0维度插入一个维度\n",
    "            # im.shape: torch.Size([3, 416, 416])\n",
    "            # im.unsqueeze(0): torch.Size([1, 3, 416, 416])\n",
    "            # Variable可以把输出的Tensor变成一个输入变量，这样梯度就不会回传了。detach()也是可以的\n",
    "            x = Variable(im.unsqueeze(0)).to(self.device)\n",
    "            t0 = time.time()\n",
    "            # forward\n",
    "            bboxes, scores, cls_inds = net(x) # 注意这个时候的net(x)的trainnable=False，所以是预测功能\n",
    "            # 周四01:22看到这\n",
    "            detect_time = time.time() - t0\n",
    "            scale = np.array([[w, h, w, h]]) # shape:(1,4)\n",
    "            # bboxes:(13, 4) * scale:(1,4) = (13, 4)\n",
    "            # 这里的13是指处理后还剩下13个框\n",
    "            bboxes *= scale \n",
    "\n",
    "            for j in range(len(self.labelmap)):\n",
    "                inds = np.where(cls_inds == j)[0]\n",
    "                if len(inds) == 0:\n",
    "                    self.all_boxes[j][i] = np.empty([0, 5], dtype=np.float32)\n",
    "                    continue\n",
    "                c_bboxes = bboxes[inds]\n",
    "                c_scores = scores[inds]\n",
    "                c_dets = np.hstack((c_bboxes,\n",
    "                                    c_scores[:, np.newaxis])).astype(np.float32,\n",
    "                                                                    copy=False)\n",
    "                self.all_boxes[j][i] = c_dets"
   ]
  },
  {
   "cell_type": "code",
   "execution_count": 79,
   "metadata": {},
   "outputs": [],
   "source": [
    "with open(det_file, 'wb') as f:\n",
    "            pickle.dump(self.all_boxes, f, pickle.HIGHEST_PROTOCOL)"
   ]
  },
  {
   "cell_type": "code",
   "execution_count": 80,
   "metadata": {},
   "outputs": [
    {
     "data": {
      "text/plain": [
       "'voc_eval/test'"
      ]
     },
     "execution_count": 80,
     "metadata": {},
     "output_type": "execute_result"
    }
   ],
   "source": [
    "self.output_dir"
   ]
  },
  {
   "cell_type": "code",
   "execution_count": 84,
   "metadata": {},
   "outputs": [
    {
     "data": {
      "text/plain": [
       "'/Users/lan/Downloads/VOCdevkitVOC2007'"
      ]
     },
     "execution_count": 84,
     "metadata": {},
     "output_type": "execute_result"
    }
   ],
   "source": [
    "self.devkit_path"
   ]
  },
  {
   "cell_type": "code",
   "execution_count": 86,
   "metadata": {},
   "outputs": [
    {
     "name": "stdout",
     "output_type": "stream",
     "text": [
      "0 ('/Users/lan/Downloads/VOCdevkit/VOC2007', '000001')\n"
     ]
    }
   ],
   "source": [
    "for im_ind, index in enumerate(self.dataset.ids):\n",
    "    print(im_ind, index)\n",
    "    break"
   ]
  },
  {
   "cell_type": "code",
   "execution_count": 88,
   "metadata": {},
   "outputs": [
    {
     "name": "stdout",
     "output_type": "stream",
     "text": [
      "0 aeroplane\n"
     ]
    }
   ],
   "source": [
    "for cls_ind, cls in enumerate(self.labelmap):\n",
    "    print(cls_ind, cls)\n",
    "    break"
   ]
  },
  {
   "cell_type": "code",
   "execution_count": 90,
   "metadata": {},
   "outputs": [
    {
     "data": {
      "text/plain": [
       "'/Users/lan/Downloads/VOCdevkitVOC2007/results/det_test_aeroplane.txt'"
      ]
     },
     "execution_count": 90,
     "metadata": {},
     "output_type": "execute_result"
    }
   ],
   "source": [
    "filename = self.get_voc_results_file_template('aeroplane')\n",
    "filename"
   ]
  },
  {
   "cell_type": "code",
   "execution_count": 94,
   "metadata": {},
   "outputs": [
    {
     "data": {
      "text/plain": [
       "array([], shape=(0, 5), dtype=float32)"
      ]
     },
     "execution_count": 94,
     "metadata": {},
     "output_type": "execute_result"
    }
   ],
   "source": [
    "all_boxes = self.all_boxes\n",
    "dets = all_boxes[cls_ind][im_ind]\n",
    "dets"
   ]
  },
  {
   "cell_type": "code",
   "execution_count": 95,
   "metadata": {},
   "outputs": [
    {
     "name": "stderr",
     "output_type": "stream",
     "text": [
      "/var/folders/62/6f97sdk961nbzq7kx9kqbz2r0000gn/T/ipykernel_38434/4091775999.py:8: DeprecationWarning: elementwise comparison failed; this will raise an error in the future.\n",
      "  if dets == []:\n"
     ]
    }
   ],
   "source": [
    "for cls_ind, cls in enumerate(self.labelmap):\n",
    "            if self.display:\n",
    "                print('Writing {:s} VOC results file'.format(cls))\n",
    "            filename = self.get_voc_results_file_template(cls)\n",
    "            with open(filename, 'wt') as f:\n",
    "                for im_ind, index in enumerate(self.dataset.ids):\n",
    "                    dets = all_boxes[cls_ind][im_ind]\n",
    "                    if dets == []:\n",
    "                        continue\n",
    "                    # the VOCdevkit expects 1-based indices\n",
    "                    for k in range(dets.shape[0]):\n",
    "                        f.write('{:s} {:.3f} {:.1f} {:.1f} {:.1f} {:.1f}\\n'.\n",
    "                                format(index[1], dets[k, -1], # 000001 score xmin+1 ymin+1 xmax+1 ymax+1\n",
    "                                    dets[k, 0] + 1, dets[k, 1] + 1,\n",
    "                                    dets[k, 2] + 1, dets[k, 3] + 1))"
   ]
  },
  {
   "cell_type": "code",
   "execution_count": 96,
   "metadata": {},
   "outputs": [
    {
     "data": {
      "text/plain": [
       "'/Users/lan/Downloads/VOCdevkitVOC2007/results/det_test_tvmonitor.txt'"
      ]
     },
     "execution_count": 96,
     "metadata": {},
     "output_type": "execute_result"
    }
   ],
   "source": [
    "filename"
   ]
  },
  {
   "cell_type": "code",
   "execution_count": 107,
   "metadata": {},
   "outputs": [
    {
     "name": "stdout",
     "output_type": "stream",
     "text": [
      "VOC07 metric? Yes\n",
      "0 aeroplane\n"
     ]
    },
    {
     "data": {
      "text/plain": [
       "'/Users/lan/Downloads/VOCdevkitVOC2007/results/det_test_aeroplane.txt'"
      ]
     },
     "execution_count": 107,
     "metadata": {},
     "output_type": "execute_result"
    }
   ],
   "source": [
    "use_07=True\n",
    "cachedir = os.path.join(self.devkit_path, 'annotations_cache')\n",
    "cachedir\n",
    "aps = []\n",
    "use_07_metric = use_07\n",
    "print('VOC07 metric? ' + ('Yes' if use_07_metric else 'No'))\n",
    "self.output_dir\n",
    "os.path.isdir(self.output_dir)\n",
    "for i, cls in enumerate(self.labelmap):\n",
    "    print(i, cls)\n",
    "    break\n",
    "filename = self.get_voc_results_file_template('aeroplane')\n",
    "filename"
   ]
  },
  {
   "cell_type": "code",
   "execution_count": 108,
   "metadata": {},
   "outputs": [],
   "source": [
    "detpath=filename\n",
    "classname=cls\n",
    "cachedir=cachedir\n",
    "ovthresh=0.5\n",
    "use_07_metric=use_07_metric"
   ]
  },
  {
   "cell_type": "code",
   "execution_count": 112,
   "metadata": {},
   "outputs": [],
   "source": [
    "if not os.path.isdir(cachedir):\n",
    "            os.mkdir(cachedir)\n",
    "os.path.isdir(cachedir)\n",
    "cachefile = os.path.join(cachedir, 'annots.pkl')"
   ]
  },
  {
   "cell_type": "code",
   "execution_count": 113,
   "metadata": {},
   "outputs": [
    {
     "data": {
      "text/plain": [
       "'/Users/lan/Downloads/VOCdevkit/VOC2007/ImageSets/Main/test.txt'"
      ]
     },
     "execution_count": 113,
     "metadata": {},
     "output_type": "execute_result"
    }
   ],
   "source": [
    "self.imgsetpath"
   ]
  },
  {
   "cell_type": "code",
   "execution_count": 114,
   "metadata": {},
   "outputs": [],
   "source": [
    "with open(self.imgsetpath, 'r') as f:\n",
    "            lines = f.readlines()"
   ]
  },
  {
   "cell_type": "code",
   "execution_count": 118,
   "metadata": {},
   "outputs": [
    {
     "data": {
      "text/plain": [
       "'000001\\n'"
      ]
     },
     "execution_count": 118,
     "metadata": {},
     "output_type": "execute_result"
    }
   ],
   "source": [
    "len(lines)\n",
    "imagenames = [x.strip() for x in lines]\n",
    "imagenames[0]\n",
    "lines[0]"
   ]
  },
  {
   "cell_type": "code",
   "execution_count": 119,
   "metadata": {},
   "outputs": [
    {
     "data": {
      "text/plain": [
       "False"
      ]
     },
     "execution_count": 119,
     "metadata": {},
     "output_type": "execute_result"
    }
   ],
   "source": [
    "os.path.isfile(cachefile)"
   ]
  },
  {
   "cell_type": "code",
   "execution_count": 121,
   "metadata": {},
   "outputs": [
    {
     "name": "stdout",
     "output_type": "stream",
     "text": [
      "0 000001\n"
     ]
    }
   ],
   "source": [
    "recs = {}\n",
    "for i, imagename in enumerate(imagenames):\n",
    "    print(i, imagename)\n",
    "    break"
   ]
  },
  {
   "cell_type": "code",
   "execution_count": 122,
   "metadata": {},
   "outputs": [
    {
     "data": {
      "text/plain": [
       "'/Users/lan/Downloads/VOCdevkit/VOC2007/Annotations/%s.xml'"
      ]
     },
     "execution_count": 122,
     "metadata": {},
     "output_type": "execute_result"
    }
   ],
   "source": [
    "self.annopath"
   ]
  },
  {
   "cell_type": "code",
   "execution_count": 123,
   "metadata": {},
   "outputs": [],
   "source": [
    "recs[imagename] = self.parse_rec(self.annopath % (imagename))"
   ]
  },
  {
   "cell_type": "code",
   "execution_count": 124,
   "metadata": {},
   "outputs": [
    {
     "data": {
      "text/plain": [
       "[{'name': 'dog',\n",
       "  'pose': 'Left',\n",
       "  'truncated': 1,\n",
       "  'difficult': 0,\n",
       "  'bbox': [48, 240, 195, 371]},\n",
       " {'name': 'person',\n",
       "  'pose': 'Left',\n",
       "  'truncated': 1,\n",
       "  'difficult': 0,\n",
       "  'bbox': [8, 12, 352, 498]}]"
      ]
     },
     "execution_count": 124,
     "metadata": {},
     "output_type": "execute_result"
    }
   ],
   "source": [
    "recs[imagename]"
   ]
  },
  {
   "cell_type": "code",
   "execution_count": 125,
   "metadata": {},
   "outputs": [],
   "source": [
    "for i, imagename in enumerate(imagenames):\n",
    "                recs[imagename] = self.parse_rec(self.annopath % (imagename))"
   ]
  },
  {
   "cell_type": "code",
   "execution_count": 127,
   "metadata": {},
   "outputs": [
    {
     "data": {
      "text/plain": [
       "'/Users/lan/Downloads/VOCdevkitVOC2007/annotations_cache/annots.pkl'"
      ]
     },
     "execution_count": 127,
     "metadata": {},
     "output_type": "execute_result"
    }
   ],
   "source": [
    "with open(cachefile, 'wb') as f:\n",
    "                pickle.dump(recs, f)\n",
    "cachefile"
   ]
  },
  {
   "cell_type": "code",
   "execution_count": 133,
   "metadata": {},
   "outputs": [
    {
     "data": {
      "text/plain": [
       "'aeroplane'"
      ]
     },
     "execution_count": 133,
     "metadata": {},
     "output_type": "execute_result"
    }
   ],
   "source": [
    "classname"
   ]
  },
  {
   "cell_type": "code",
   "execution_count": 134,
   "metadata": {},
   "outputs": [
    {
     "name": "stdout",
     "output_type": "stream",
     "text": [
      "000001\n"
     ]
    }
   ],
   "source": [
    "class_recs = {}\n",
    "npos = 0\n",
    "#imagenames\n",
    "for imagename in imagenames:\n",
    "    print(imagename)\n",
    "    break\n",
    "\n",
    "\n",
    "R = [obj for obj in recs['000001'] if obj['name'] == classname]"
   ]
  },
  {
   "cell_type": "code",
   "execution_count": 135,
   "metadata": {},
   "outputs": [
    {
     "data": {
      "text/plain": [
       "array([], dtype=float64)"
      ]
     },
     "execution_count": 135,
     "metadata": {},
     "output_type": "execute_result"
    }
   ],
   "source": [
    "bbox = np.array([x['bbox'] for x in R])\n",
    "bbox"
   ]
  },
  {
   "cell_type": "code",
   "execution_count": 136,
   "metadata": {},
   "outputs": [
    {
     "name": "stderr",
     "output_type": "stream",
     "text": [
      "/var/folders/62/6f97sdk961nbzq7kx9kqbz2r0000gn/T/ipykernel_38434/181953799.py:1: DeprecationWarning: `np.bool` is a deprecated alias for the builtin `bool`. To silence this warning, use `bool` by itself. Doing this will not modify any behavior and is safe. If you specifically wanted the numpy scalar type, use `np.bool_` here.\n",
      "Deprecated in NumPy 1.20; for more details and guidance: https://numpy.org/devdocs/release/1.20.0-notes.html#deprecations\n",
      "  difficult = np.array([x['difficult'] for x in R]).astype(np.bool)\n"
     ]
    }
   ],
   "source": [
    "difficult = np.array([x['difficult'] for x in R]).astype(np.bool)"
   ]
  },
  {
   "cell_type": "code",
   "execution_count": 140,
   "metadata": {},
   "outputs": [
    {
     "name": "stderr",
     "output_type": "stream",
     "text": [
      "/var/folders/62/6f97sdk961nbzq7kx9kqbz2r0000gn/T/ipykernel_38434/2698591901.py:5: DeprecationWarning: `np.bool` is a deprecated alias for the builtin `bool`. To silence this warning, use `bool` by itself. Doing this will not modify any behavior and is safe. If you specifically wanted the numpy scalar type, use `np.bool_` here.\n",
      "Deprecated in NumPy 1.20; for more details and guidance: https://numpy.org/devdocs/release/1.20.0-notes.html#deprecations\n",
      "  difficult = np.array([x['difficult'] for x in R]).astype(np.bool)\n"
     ]
    }
   ],
   "source": [
    "for imagename in imagenames:\n",
    "            # recs是一个字典，recs['000001']的结果也是字典，可能有多个obj，这些obj也是字典，通过obj['name']判断是否为aeroplane等，是的话取出来\n",
    "            R = [obj for obj in recs[imagename] if obj['name'] == classname]\n",
    "            bbox = np.array([x['bbox'] for x in R])\n",
    "            difficult = np.array([x['difficult'] for x in R]).astype(np.bool)\n",
    "            det = [False] * len(R)  # [False] * 2 -> [False, False]\n",
    "            npos = npos + sum(~difficult) # 基本都为0/False，自增，~difficult取反,统计样本个数\n",
    "            class_recs[imagename] = {'bbox': bbox,\n",
    "                                    'difficult': difficult,\n",
    "                                    'det': det}"
   ]
  },
  {
   "cell_type": "code",
   "execution_count": 151,
   "metadata": {},
   "outputs": [
    {
     "data": {
      "text/plain": [
       "{'bbox': array([], dtype=float64),\n",
       " 'difficult': array([], dtype=bool),\n",
       " 'det': []}"
      ]
     },
     "execution_count": 151,
     "metadata": {},
     "output_type": "execute_result"
    }
   ],
   "source": [
    "class_recs['000015']"
   ]
  },
  {
   "cell_type": "code",
   "execution_count": 154,
   "metadata": {},
   "outputs": [],
   "source": [
    "detfile = detpath.format(classname)\n",
    "detfile\n",
    "with open(detfile, 'r') as f:\n",
    "            lines = f.readlines()\n",
    "            "
   ]
  },
  {
   "cell_type": "code",
   "execution_count": 157,
   "metadata": {},
   "outputs": [
    {
     "data": {
      "text/plain": [
       "(911, 285)"
      ]
     },
     "execution_count": 157,
     "metadata": {},
     "output_type": "execute_result"
    }
   ],
   "source": [
    "len(lines), npos"
   ]
  },
  {
   "cell_type": "code",
   "execution_count": 159,
   "metadata": {},
   "outputs": [
    {
     "data": {
      "text/plain": [
       "['000067', '0.855', '26.1', '63.7', '423.9', '218.6']"
      ]
     },
     "execution_count": 159,
     "metadata": {},
     "output_type": "execute_result"
    }
   ],
   "source": [
    "splitlines = [x.strip().split(' ') for x in lines]\n",
    "splitlines[0]"
   ]
  },
  {
   "cell_type": "code",
   "execution_count": 161,
   "metadata": {},
   "outputs": [
    {
     "data": {
      "text/plain": [
       "'000067'"
      ]
     },
     "execution_count": 161,
     "metadata": {},
     "output_type": "execute_result"
    }
   ],
   "source": [
    "image_ids = [x[0] for x in splitlines]\n",
    "image_ids[0]"
   ]
  },
  {
   "cell_type": "code",
   "execution_count": 163,
   "metadata": {},
   "outputs": [
    {
     "data": {
      "text/plain": [
       "0.855"
      ]
     },
     "execution_count": 163,
     "metadata": {},
     "output_type": "execute_result"
    }
   ],
   "source": [
    "confidence = np.array([float(x[1]) for x in splitlines])\n",
    "confidence[0]"
   ]
  },
  {
   "cell_type": "code",
   "execution_count": 165,
   "metadata": {},
   "outputs": [
    {
     "data": {
      "text/plain": [
       "array([ 26.1,  63.7, 423.9, 218.6])"
      ]
     },
     "execution_count": 165,
     "metadata": {},
     "output_type": "execute_result"
    }
   ],
   "source": [
    "BB = np.array([[float(z) for z in x[2:]] for x in splitlines])\n",
    "BB[0]"
   ]
  },
  {
   "cell_type": "code",
   "execution_count": 169,
   "metadata": {},
   "outputs": [],
   "source": [
    "sorted_ind = np.argsort(-confidence)\n",
    "sorted_scores = np.sort(-confidence)\n",
    "BB = BB[sorted_ind, :]\n",
    "image_ids = [image_ids[x] for x in sorted_ind]"
   ]
  },
  {
   "cell_type": "code",
   "execution_count": 177,
   "metadata": {},
   "outputs": [],
   "source": [
    "nd = len(image_ids)\n",
    "nd\n",
    "tp = np.zeros(nd)\n",
    "tp.shape\n",
    "fp = np.zeros(nd)"
   ]
  },
  {
   "cell_type": "code",
   "execution_count": 179,
   "metadata": {},
   "outputs": [],
   "source": [
    "d=0\n",
    "R = class_recs[image_ids[d]]"
   ]
  },
  {
   "cell_type": "code",
   "execution_count": 180,
   "metadata": {},
   "outputs": [
    {
     "data": {
      "text/plain": [
       "'000968'"
      ]
     },
     "execution_count": 180,
     "metadata": {},
     "output_type": "execute_result"
    }
   ],
   "source": [
    "image_ids[d]"
   ]
  },
  {
   "cell_type": "code",
   "execution_count": 188,
   "metadata": {},
   "outputs": [
    {
     "data": {
      "text/plain": [
       "array([[ 17.,  64., 472., 231.]])"
      ]
     },
     "execution_count": 188,
     "metadata": {},
     "output_type": "execute_result"
    }
   ],
   "source": [
    "R = class_recs[image_ids[d]]\n",
    "R\n",
    "ovmax = -np.inf\n",
    "BBGT = R['bbox'].astype(float)\n",
    "BBGT"
   ]
  },
  {
   "cell_type": "code",
   "execution_count": 189,
   "metadata": {},
   "outputs": [
    {
     "data": {
      "text/plain": [
       "True"
      ]
     },
     "execution_count": 189,
     "metadata": {},
     "output_type": "execute_result"
    }
   ],
   "source": [
    "BBGT.size > 0"
   ]
  },
  {
   "cell_type": "code",
   "execution_count": 183,
   "metadata": {},
   "outputs": [
    {
     "data": {
      "text/plain": [
       "array([378.8, 172.4, 488.9, 225.2])"
      ]
     },
     "execution_count": 183,
     "metadata": {},
     "output_type": "execute_result"
    }
   ],
   "source": [
    "bb = BB[d, :].astype(float)\n",
    "bb"
   ]
  },
  {
   "cell_type": "code",
   "execution_count": null,
   "metadata": {},
   "outputs": [],
   "source": []
  }
 ],
 "metadata": {
  "kernelspec": {
   "display_name": "Python 3.9.13 ('d2l')",
   "language": "python",
   "name": "python3"
  },
  "language_info": {
   "codemirror_mode": {
    "name": "ipython",
    "version": 3
   },
   "file_extension": ".py",
   "mimetype": "text/x-python",
   "name": "python",
   "nbconvert_exporter": "python",
   "pygments_lexer": "ipython3",
   "version": "3.9.13"
  },
  "orig_nbformat": 4,
  "vscode": {
   "interpreter": {
    "hash": "55159b417f3826aea464d5c5c2f08c53809ba760ead055a010d5c73ccf6f5953"
   }
  }
 },
 "nbformat": 4,
 "nbformat_minor": 2
}
